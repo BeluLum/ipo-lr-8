{
 "cells": [
  {
   "cell_type": "markdown",
   "metadata": {},
   "source": [
    "### Лабораторная работа номер 8\n",
    "# Цели:\n",
    "- Освоить работу с Excel-файлами средствами Python.\n",
    "- Научиться строить столбчатые диаграммы с помощью matplotlib.\n",
    "- Развить навыки обработки и визуализации табличных данных.\n",
    "- Научиться использовать библиотеку openpyxl для чтения и записи данных.\n",
    "# Задачи:\n",
    "- Считать данные из Excel-файла с результатами студентов.\n",
    "- Выполнить вычисления (средние, максимальные, групповые показатели).\n",
    "- Построить столбчатые диаграммы по заданным вариантам.\n",
    "- Подписать оси, добавить заголовки и легенды к графикам.\n",
    "- Сохранить результаты и визуализации в Jupyter Notebook.\n",
    "\n",
    "                        Ход работы"
   ]
  },
  {
   "cell_type": "code",
   "execution_count": 11,
   "metadata": {},
   "outputs": [
    {
     "name": "stdout",
     "output_type": "stream",
     "text": [
      "['Оценки', 'Группы']\n",
      "(<Cell 'Оценки'.C2>,)\n"
     ]
    }
   ],
   "source": [
    "from openpyxl import load_workbook\n",
    "wb = load_workbook('students.xlsx')\n",
    "print(wb.sheetnames)\n",
    "ws1 = wb[\"Оценки\"]\n",
    "ws2 = wb[\"Группы\"]\n",
    "sum1 = 0\n",
    "cell_range = [ws1['C2':'C108']]\n",
    "print(cell_range)\n",
    "for i in cell_range:\n",
    "    mark = i[0]\n",
    "    \n",
    "    print(mark)\n",
    "    \n",
    "\n",
    "    \n",
    "    \n",
    "result = sum1/108"
   ]
  }
 ],
 "metadata": {
  "kernelspec": {
   "display_name": "Python 3",
   "language": "python",
   "name": "python3"
  },
  "language_info": {
   "codemirror_mode": {
    "name": "ipython",
    "version": 3
   },
   "file_extension": ".py",
   "mimetype": "text/x-python",
   "name": "python",
   "nbconvert_exporter": "python",
   "pygments_lexer": "ipython3",
   "version": "3.11.9"
  }
 },
 "nbformat": 4,
 "nbformat_minor": 2
}
