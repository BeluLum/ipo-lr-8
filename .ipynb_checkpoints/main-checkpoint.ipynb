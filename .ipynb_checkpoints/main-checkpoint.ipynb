{
 "cells": [
  {
   "cell_type": "markdown",
   "metadata": {},
   "source": [
    "### Лабораторная работа номер 8\n",
    "# Цели:\n",
    "- Освоить работу с Excel-файлами средствами Python.\n",
    "- Научиться строить столбчатые диаграммы с помощью matplotlib.\n",
    "- Развить навыки обработки и визуализации табличных данных.\n",
    "- Научиться использовать библиотеку openpyxl для чтения и записи данных.\n",
    "# Задачи:\n",
    "- Считать данные из Excel-файла с результатами студентов.\n",
    "- Выполнить вычисления (средние, максимальные, групповые показатели).\n",
    "- Построить столбчатые диаграммы по заданным вариантам.\n",
    "- Подписать оси, добавить заголовки и легенды к графикам.\n",
    "- Сохранить результаты и визуализации в Jupyter Notebook.\n",
    "\n",
    "                        Ход работы"
   ]
  },
  {
   "cell_type": "code",
   "execution_count": 42,
   "metadata": {},
   "outputs": [
    {
     "name": "stdout",
     "output_type": "stream",
     "text": [
      "['Оценки', 'Группы']\n"
     ]
    }
   ],
   "source": [
    "import openpyxl\n",
    "from openpyxl import load_workbook\n",
    "wb = load_workbook('students.xlsx')\n",
    "print(wb.sheetnames)\n",
    "ws1 = wb[\"Оценки\"]\n",
    "ws2 = wb[\"Группы\"]\n",
    "sum1 = 0\n",
    "sum2 = 0\n",
    "sum3 = 0\n",
    "\n",
    "cell_range = ws1['B2':'B108']\n",
    "for i in cell_range:\n",
    "    math_mark = i[0]\n",
    "    sum1 += math_mark.value \n",
    "\n",
    "middle_mark_math = sum1/108 \n",
    "cell_range = ws1['C2':'C108']\n",
    "\n",
    "for i in cell_range:\n",
    "    physics_mark = i[0]\n",
    "    physics_mark = i[0]\n",
    "    sum2 += physics_mark.value \n",
    "\n",
    "cell_range = ws1['D2':'D108']\n",
    "middle_mark_physics = sum2/108 \n",
    "\n",
    "for i in cell_range:\n",
    "    informatics_mark = i[0]\n",
    "    sum3 += informatics_mark.value \n",
    "\n",
    "middle_mark_informatics = sum3/108\n",
    "\n",
    "\n"
   ]
  },
  {
   "cell_type": "code",
   "execution_count": 49,
   "metadata": {
    "scrolled": true
   },
   "outputs": [
    {
     "data": {
      "image/png": "[encoded data removed]",
      "text/plain": [
       "<Figure size 640x480 with 1 Axes>"
      ]
     },
     "metadata": {},
     "output_type": "display_data"
    }
   ],
   "source": [
    "import matplotlib.pyplot as plt\n",
    "%matplotlib inline\n",
    "subjects = [\"Математика\", \"Физика\", \"Информатика\"]\n",
    "counts = [middle_mark_math, middle_mark_physics, middle_mark_informatics]\n",
    "plt.bar(subjects, counts)\n",
    "plt.grid()              "
   ]
  },
  {
   "cell_type": "code",
   "execution_count": 45,
   "metadata": {},
   "outputs": [],
   "source": [
    "from openpyxl import Workbook\n",
    "wb1 = Workbook()\n",
    "ws = wb1.active\n",
    "ws.title = \"Результаты\"\n",
    "ws[\"A1\"] = \"Математика\"\n",
    "ws[\"B1\"] = \"Физика\"\n",
    "ws[\"C1\"] = \"Информатика\"\n",
    "ws[\"A2\"] = middle_mark_math\n",
    "ws[\"B2\"] = middle_mark_physics\n",
    "ws[\"C2\"] = middle_mark_informatics\n",
    "wb1.save('studets_result.xlsx')"
   ]
  },
  {
   "cell_type": "code",
   "execution_count": null,
   "metadata": {},
   "outputs": [],
   "source": []
  }
 ],
 "metadata": {
  "kernelspec": {
   "display_name": "Python 3 (ipykernel)",
   "language": "python",
   "name": "python3"
  },
  "language_info": {
   "codemirror_mode": {
    "name": "ipython",
    "version": 3
   },
   "file_extension": ".py",
   "mimetype": "text/x-python",
   "name": "python",
   "nbconvert_exporter": "python",
   "pygments_lexer": "ipython3",
   "version": "3.13.6"
  }
 },
 "nbformat": 4,
 "nbformat_minor": 4
}
